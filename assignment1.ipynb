{
 "cells": [
  {
   "cell_type": "code",
   "execution_count": 1,
   "metadata": {},
   "outputs": [
    {
     "name": "stdout",
     "output_type": "stream",
     "text": [
      "3.7.1\n"
     ]
    }
   ],
   "source": [
    "##Q2##\n",
    "from platform import python_version\n",
    "print(python_version())"
   ]
  },
  {
   "cell_type": "code",
   "execution_count": 4,
   "metadata": {},
   "outputs": [
    {
     "name": "stdout",
     "output_type": "stream",
     "text": [
      "date and time = 02/11/2019 03:41:43\n"
     ]
    }
   ],
   "source": [
    "##Q3##\n",
    "from datetime import datetime\n",
    "current_time = datetime.now()\n",
    "date_time = current_time.strftime(\"%d/%m/%Y %H:%M:%S\")\n",
    "print(\"date and time =\", date_time)"
   ]
  },
  {
   "cell_type": "code",
   "execution_count": 7,
   "metadata": {},
   "outputs": [
    {
     "name": "stdout",
     "output_type": "stream",
     "text": [
      "2\n",
      "area of circle is 12.566370614359172\n"
     ]
    }
   ],
   "source": [
    "##Q4##\n",
    "import math\n",
    "r=float(input())\n",
    "p=math.pi\n",
    "print(\"area of circle is\",p*r**2)\n"
   ]
  },
  {
   "cell_type": "code",
   "execution_count": 10,
   "metadata": {},
   "outputs": [
    {
     "name": "stdout",
     "output_type": "stream",
     "text": [
      "daniyal\n",
      "raza\n",
      "layinad  azar\n"
     ]
    }
   ],
   "source": [
    "##Q5##\n",
    "fname=(input())\n",
    "lname=(input())\n",
    "print(fname[::-1],\"\",lname[::-1])"
   ]
  },
  {
   "cell_type": "code",
   "execution_count": 12,
   "metadata": {},
   "outputs": [
    {
     "name": "stdout",
     "output_type": "stream",
     "text": [
      "5\n",
      "6\n",
      "11\n"
     ]
    }
   ],
   "source": [
    "##Q6##\n",
    "x=int(input())\n",
    "y=int(input())\n",
    "print(x+y)"
   ]
  },
  {
   "cell_type": "code",
   "execution_count": 14,
   "metadata": {},
   "outputs": [
    {
     "name": "stdout",
     "output_type": "stream",
     "text": [
      "Twinkle, twinkle, little star,\n",
      "     How I wonder what you are!\n",
      "           Up above the world so high,\n",
      "           Like a diamond in the sky.\n",
      "Twinkle, twinkle, little star,\n",
      "      How I wonder what you are\n"
     ]
    }
   ],
   "source": [
    "##Q1##\n",
    "print(\"Twinkle, twinkle, little star,\")\n",
    "print(\"     How I wonder what you are!\")\n",
    "print(\"           Up above the world so high,\")\n",
    "print(\"           Like a diamond in the sky.\")\n",
    "print(\"Twinkle, twinkle, little star,\")\n",
    "print(\"      How I wonder what you are\")"
   ]
  },
  {
   "cell_type": "code",
   "execution_count": null,
   "metadata": {},
   "outputs": [],
   "source": []
  }
 ],
 "metadata": {
  "kernelspec": {
   "display_name": "Python 3",
   "language": "python",
   "name": "python3"
  },
  "language_info": {
   "codemirror_mode": {
    "name": "ipython",
    "version": 3
   },
   "file_extension": ".py",
   "mimetype": "text/x-python",
   "name": "python",
   "nbconvert_exporter": "python",
   "pygments_lexer": "ipython3",
   "version": "3.7.1"
  }
 },
 "nbformat": 4,
 "nbformat_minor": 2
}
