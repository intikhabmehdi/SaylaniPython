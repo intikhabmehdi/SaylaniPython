{
 "cells": [
  {
   "cell_type": "code",
   "execution_count": 13,
   "metadata": {},
   "outputs": [
    {
     "name": "stdout",
     "output_type": "stream",
     "text": [
      "enter marks of subject1:89\n",
      "enter marks of subject2:76\n",
      "enter marks of subject3:56\n",
      "enter marks of subject4:99\n",
      "enter marks of subject5:78\n",
      "\n",
      "MarkSheet\n",
      "\n",
      "Subject          Marks\n",
      "\n",
      "Subject1           89\n",
      "Subject2           76\n",
      "Subject3           56\n",
      "Subject4           99\n",
      "Subject5           78\n",
      "Total              500\n",
      "Obtained           398\n",
      "Percentage         79.6\n",
      "Grade              B\n"
     ]
    }
   ],
   "source": [
    "subj1=int(input(\"enter marks of subject1:\"))\n",
    "subj2=int(input(\"enter marks of subject2:\"))\n",
    "subj3=int(input(\"enter marks of subject3:\"))\n",
    "subj4=int(input(\"enter marks of subject4:\"))\n",
    "subj5=int(input(\"enter marks of subject5:\"))\n",
    "total=subj1+subj2+subj3+subj4+subj5\n",
    "avg=total*100/500\n",
    "if(avg>=80):\n",
    "    grade='A'\n",
    "elif(avg>=70):\n",
    "    grade='B'\n",
    "elif(avg>=60):\n",
    "    grade='C'\n",
    "elif(avg>=50):\n",
    "    grade='D'\n",
    "else:\n",
    "    grade='Fail'\n",
    "\n",
    "print(\"\\nMarkSheet\")\n",
    "print(\"\\nSubject          Marks\\n\")\n",
    "print(\"Subject1          \",subj1)\n",
    "print(\"Subject2          \",subj2)\n",
    "print(\"Subject3          \",subj3)\n",
    "print(\"Subject4          \",subj4)\n",
    "print(\"Subject5          \",subj5)\n",
    "print(\"Total             \",500)\n",
    "print(\"Obtained          \",total)\n",
    "print(\"Percentage        \",avg)\n",
    "print(\"Grade             \",grade)"
   ]
  },
  {
   "cell_type": "markdown",
   "metadata": {},
   "source": []
  },
  {
   "cell_type": "code",
   "execution_count": 17,
   "metadata": {},
   "outputs": [
    {
     "name": "stdout",
     "output_type": "stream",
     "text": [
      "Enter Number34\n",
      "Number is EVEN\n"
     ]
    }
   ],
   "source": [
    "\n",
    "num1=int(input(\"Enter Number\"))\n",
    "if(num1%2!=0):\n",
    "    print(\"Number is ODD\")\n",
    "else:\n",
    "    print(\"Number is EVEN\")"
   ]
  },
  {
   "cell_type": "code",
   "execution_count": 18,
   "metadata": {},
   "outputs": [
    {
     "name": "stdout",
     "output_type": "stream",
     "text": [
      "6\n"
     ]
    }
   ],
   "source": [
    "list1 = [ 'a', 'z', '3', 4, 2, 1 ] \n",
    "print(len(list1))"
   ]
  },
  {
   "cell_type": "code",
   "execution_count": 25,
   "metadata": {},
   "outputs": [
    {
     "name": "stdout",
     "output_type": "stream",
     "text": [
      "sum of numeric values in list is  7\n"
     ]
    }
   ],
   "source": [
    "list1 = [ 'a', 'z', '3',4,2,1] \n",
    "sum=0\n",
    "for i in list1: \n",
    "    if(type(i) == int or type(i) == float ) : \n",
    "        sum=sum+i\n",
    "        \n",
    "        \n",
    "print(\"sum of numeric values in list is \",sum)"
   ]
  },
  {
   "cell_type": "code",
   "execution_count": 31,
   "metadata": {},
   "outputs": [
    {
     "name": "stdout",
     "output_type": "stream",
     "text": [
      "largest number in list is  99\n"
     ]
    }
   ],
   "source": [
    "list1 = [ 1,3,5,8,99,22,12]\n",
    "max=list1[0]\n",
    "for i in list1: \n",
    "    if i>=max :\n",
    "        max=i\n",
    "        \n",
    "print(\"largest number in list is \",max)\n",
    "\n",
    "        \n"
   ]
  },
  {
   "cell_type": "code",
   "execution_count": 33,
   "metadata": {},
   "outputs": [
    {
     "name": "stdout",
     "output_type": "stream",
     "text": [
      "1\n",
      "1\n",
      "2\n",
      "3\n"
     ]
    }
   ],
   "source": [
    "a = [1, 1, 2, 3, 5, 8, 13, 21, 34, 55, 89]\n",
    "for i in a: \n",
    "    if i<5 :\n",
    "        print(i)"
   ]
  },
  {
   "cell_type": "code",
   "execution_count": null,
   "metadata": {},
   "outputs": [],
   "source": []
  }
 ],
 "metadata": {
  "kernelspec": {
   "display_name": "Python 3",
   "language": "python",
   "name": "python3"
  },
  "language_info": {
   "codemirror_mode": {
    "name": "ipython",
    "version": 3
   },
   "file_extension": ".py",
   "mimetype": "text/x-python",
   "name": "python",
   "nbconvert_exporter": "python",
   "pygments_lexer": "ipython3",
   "version": "3.7.1"
  }
 },
 "nbformat": 4,
 "nbformat_minor": 2
}
