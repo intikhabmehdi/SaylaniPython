{
 "cells": [
  {
   "cell_type": "code",
   "execution_count": 2,
   "metadata": {},
   "outputs": [
    {
     "name": "stdout",
     "output_type": "stream",
     "text": [
      "which operation do you want to perform select any one option\n",
      "1.Add\n",
      "2.Subtract\n",
      "3.Multiply\n",
      "4.Divide\n",
      "Enter choice(1/2/3/4): 3\n",
      "Enter first number: 3.3\n",
      "Enter second number: 2.\n",
      "3.3 * 2.0 = 6.6\n"
     ]
    }
   ],
   "source": [
    "def addition(x, y):\n",
    "   return x + y\n",
    "\n",
    "def subtraction(x, y):\n",
    "   return x - y\n",
    "\n",
    "def multiplication(x, y):\n",
    "   return x * y\n",
    "\n",
    "def division(x, y):\n",
    "   return x / y\n",
    "\n",
    "print(\"which operation do you want to perform select any one option\")\n",
    "print(\"1.Add\")\n",
    "print(\"2.Subtract\")\n",
    "print(\"3.Multiply\")\n",
    "print(\"4.Divide\")\n",
    "operation = input(\"Enter choice(1/2/3/4): \")\n",
    "num1 = float(input(\"Enter first number: \"))\n",
    "num2 = float(input(\"Enter second number: \"))\n",
    "if operation == '1':\n",
    "   print(num1,\"+\",num2,\"=\", addition(num1,num2))\n",
    "elif operation == '2':\n",
    "   print(num1,\"-\",num2,\"=\", subtraction(num1,num2))\n",
    "elif operation == '3':\n",
    "   print(num1,\"*\",num2,\"=\", multiplication(num1,num2))\n",
    "elif operation == '4':\n",
    "   print(num1,\"/\",num2,\"=\", division(num1,num2))\n",
    "else:\n",
    "   print(\"Invalid input\")"
   ]
  },
  {
   "cell_type": "code",
   "execution_count": 6,
   "metadata": {},
   "outputs": [
    {
     "name": "stdout",
     "output_type": "stream",
     "text": [
      "Numeric value does not Exist\n"
     ]
    }
   ],
   "source": [
    "chk=0;\n",
    "list1 = [ 'a', 'z', '3', 4, 2, 1 ] \n",
    "for i in list1: \n",
    "    if(type(i) == int or type(i) == float ) : \n",
    "        chk=1\n",
    "\n",
    "        \n",
    "if chk==1:\n",
    "     print (\"Numeric value Exists\")\n",
    "else:\n",
    "    print (\"Numeric value does not Exist\")\n",
    "         \n",
    "    \n"
   ]
  },
  {
   "cell_type": "code",
   "execution_count": 15,
   "metadata": {},
   "outputs": [
    {
     "name": "stdout",
     "output_type": "stream",
     "text": [
      "{3: 303, 30: 205, 'b': 98}\n",
      "{3: 303, 30: 205, 'b': 98, 'a': 97}\n"
     ]
    }
   ],
   "source": [
    "dic = {3:303, 30:205,'b':98}  \n",
    "print(dic)  \n",
    "dic.update({'a':97})  \n",
    "print(dic) "
   ]
  },
  {
   "cell_type": "code",
   "execution_count": 16,
   "metadata": {},
   "outputs": [
    {
     "name": "stdout",
     "output_type": "stream",
     "text": [
      "Sum : 805\n"
     ]
    }
   ],
   "source": [
    "def Sum(dic1): \n",
    "      \n",
    "     sum = 0\n",
    "     for i in dic1.values(): \n",
    "           sum = sum + i \n",
    "       \n",
    "     return sum\n",
    "dic = {'a': 105, 'b':150, 'c':550} \n",
    "print(\"Sum of values in list :\", Sum(dic)) "
   ]
  },
  {
   "cell_type": "code",
   "execution_count": 21,
   "metadata": {},
   "outputs": [
    {
     "name": "stdout",
     "output_type": "stream",
     "text": [
      "[11, 21, 10, 41, -20]\n"
     ]
    }
   ],
   "source": [
    "def func(a): \n",
    "    n = len(a) \n",
    "    repeated1 = [] \n",
    "    for i in range(n): \n",
    "        x = i + 1\n",
    "        for j in range(x, n): \n",
    "            if a[i] == a[j] and a[i] not in repeated1: \n",
    "                repeated1.append(a[i]) \n",
    "    return repeated1\n",
    "  \n",
    "list1 = [11, 21, 10, 20, 10, 41, 41,50, 21, 11, 66, -20, -20] \n",
    "print (func(list1)) "
   ]
  },
  {
   "cell_type": "code",
   "execution_count": 27,
   "metadata": {},
   "outputs": [
    {
     "name": "stdout",
     "output_type": "stream",
     "text": [
      "8\n",
      "key exists, 8\n",
      "and its value is: 64\n"
     ]
    }
   ],
   "source": [
    "def checkfunc(dict, key): \n",
    "      \n",
    "    if key in dict.keys(): \n",
    "        print(\"key exists, \"+key) \n",
    "        print(\"and its value is:\", dict[key]) \n",
    "    else: \n",
    "        print(\"Not present\") \n",
    "  \n",
    "dict = {'1': 8, '3':16, '3':32,'8':64} \n",
    "  \n",
    "key = input()\n",
    "checkfunc(dict, key) \n"
   ]
  },
  {
   "cell_type": "code",
   "execution_count": null,
   "metadata": {},
   "outputs": [],
   "source": []
  },
  {
   "cell_type": "code",
   "execution_count": null,
   "metadata": {},
   "outputs": [],
   "source": []
  }
 ],
 "metadata": {
  "kernelspec": {
   "display_name": "Python 3",
   "language": "python",
   "name": "python3"
  },
  "language_info": {
   "codemirror_mode": {
    "name": "ipython",
    "version": 3
   },
   "file_extension": ".py",
   "mimetype": "text/x-python",
   "name": "python",
   "nbconvert_exporter": "python",
   "pygments_lexer": "ipython3",
   "version": "3.7.1"
  }
 },
 "nbformat": 4,
 "nbformat_minor": 2
}
