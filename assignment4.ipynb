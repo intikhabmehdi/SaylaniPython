{
 "cells": [
  {
   "cell_type": "code",
   "execution_count": 10,
   "metadata": {},
   "outputs": [
    {
     "name": "stdout",
     "output_type": "stream",
     "text": [
      "daniyal\n",
      "khuwaja\n",
      "23\n",
      "karachi\n",
      "added new key Qualification in dictionary\n",
      "{'first_name': 'daniyal', 'last_name': 'khuwaja', 'age': 23, 'city': 'karachi', 'qualification': 'BSCS'}\n",
      "Updated Qualification in dictionary\n",
      "{'first_name': 'daniyal', 'last_name': 'khuwaja', 'age': 23, 'city': 'karachi', 'qualification': 'MSCS'}\n",
      "after deleting qualification\n",
      "{'first_name': 'daniyal', 'last_name': 'khuwaja', 'age': 23, 'city': 'karachi'}\n"
     ]
    }
   ],
   "source": [
    "dict1 = {\n",
    "    'first_name': 'daniyal',\n",
    "    'last_name': 'khuwaja',\n",
    "    'age': 23,\n",
    "    'city': 'karachi',\n",
    "    }\n",
    "\n",
    "print(dict1['first_name'])\n",
    "print(dict1['last_name'])\n",
    "print(dict1['age'])\n",
    "print(dict1['city'])\n",
    "print(\"added new key Qualification in dictionary\")\n",
    "dict1.update({'qualification':'BSCS'})\n",
    "print(dict1)\n",
    "print(\"Updated Qualification in dictionary\")\n",
    "dict1.update({'qualification':'MSCS'})\n",
    "print(dict1)\n",
    "print(\"after deleting qualification\")\n",
    "del dict1['qualification']\n",
    "print(dict1)\n",
    "\n",
    "\n"
   ]
  },
  {
   "cell_type": "code",
   "execution_count": 11,
   "metadata": {},
   "outputs": [
    {
     "name": "stdout",
     "output_type": "stream",
     "text": [
      "\n",
      "Karachi is in Pakistan.\n",
      "  It has a population of about 14.9 Million.\n",
      "  It is famous for Lights \n",
      "\n",
      "London is in Uk.\n",
      "  It has a population of about 8.9 Million.\n",
      "  It is famous for Big Ben \n",
      "\n",
      "Paris is in France.\n",
      "  It has a population of about 2.1 Million.\n",
      "  It is famous for Eiffel Tower \n"
     ]
    }
   ],
   "source": [
    "cities = {\n",
    "    'Karachi': {\n",
    "        'country': 'Pakistan',\n",
    "        'population': '14.9 million',\n",
    "        'fact': 'Lights',\n",
    "        },\n",
    "    'london': {\n",
    "        'country': 'UK',\n",
    "        'population': '8.9 million',\n",
    "        'fact': 'Big Ben',\n",
    "        },\n",
    "    'Paris': {\n",
    "        'country': 'France',\n",
    "        'population': '2.1 million',\n",
    "        'fact': 'Eiffel Tower',\n",
    "        }\n",
    "    }\n",
    "\n",
    "for i, j in cities.items():\n",
    "    country = j['country'].title()\n",
    "    population = j['population'].title()\n",
    "    fact = j['fact'].title()\n",
    "\n",
    "    print(\"\\n\" + i.title() + \" is in \" + country + \".\")\n",
    "    print(\"  It has a population of about \" + population + \".\")\n",
    "    print(\"  It is famous for \" + fact + \" \")"
   ]
  },
  {
   "cell_type": "code",
   "execution_count": 1,
   "metadata": {},
   "outputs": [
    {
     "name": "stdout",
     "output_type": "stream",
     "text": [
      "How old are you?\n",
      "type q when you want to stop\n",
      "Noneq\n"
     ]
    }
   ],
   "source": [
    "txt=print(\"How old are you?\")\n",
    "print(\"type q when you want to stop\")\n",
    "while True:\n",
    "    age = input(txt)\n",
    "    if age == 'q':\n",
    "        break\n",
    "    age = input(\"age/q: \")\n",
    "\n",
    "    if age < 3:\n",
    "        print(\"  You get in free!\")\n",
    "    elif age < 13:\n",
    "        print(\"  Your ticket price is $10.\")\n",
    "    else:\n",
    "        print(\"  Your ticket price is $15.\")\n"
   ]
  },
  {
   "cell_type": "code",
   "execution_count": 3,
   "metadata": {},
   "outputs": [
    {
     "name": "stdout",
     "output_type": "stream",
     "text": [
      "enter book title: stats\n",
      "stats is one of the greatest book ever\n"
     ]
    }
   ],
   "source": [
    "def favorite_book(title):\n",
    "    print(title + \" is one of the greatest book ever\")\n",
    "\n",
    "title=input(\"enter book title: \")\n",
    "favorite_book(title)"
   ]
  },
  {
   "cell_type": "code",
   "execution_count": 14,
   "metadata": {},
   "outputs": [
    {
     "name": "stdout",
     "output_type": "stream",
     "text": [
      "you have 3 chances\n",
      "9\n",
      "Guess the number between 1 and 30: 9\n",
      "you guessed correct\n"
     ]
    }
   ],
   "source": [
    "import random\n",
    "i=3\n",
    "print(\"you have 3 chances\")\n",
    "ran=random.randint(1,30)\n",
    "print(ran)\n",
    "while True:  \n",
    "    gues=int(input(\"Guess the number between 1 and 30: \")) \n",
    "    i = i - 1  \n",
    "    if(i==0 or gues==ran):\n",
    "        break\n",
    "if(gues==ran):\n",
    "    print(\"you guessed correct\")\n",
    "elif(i==0):\n",
    "    print(\"you consumed all your chances\")"
   ]
  },
  {
   "cell_type": "markdown",
   "metadata": {},
   "source": []
  },
  {
   "cell_type": "code",
   "execution_count": null,
   "metadata": {},
   "outputs": [],
   "source": []
  }
 ],
 "metadata": {
  "kernelspec": {
   "display_name": "Python 3",
   "language": "python",
   "name": "python3"
  },
  "language_info": {
   "codemirror_mode": {
    "name": "ipython",
    "version": 3
   },
   "file_extension": ".py",
   "mimetype": "text/x-python",
   "name": "python",
   "nbconvert_exporter": "python",
   "pygments_lexer": "ipython3",
   "version": "3.7.1"
  }
 },
 "nbformat": 4,
 "nbformat_minor": 2
}
